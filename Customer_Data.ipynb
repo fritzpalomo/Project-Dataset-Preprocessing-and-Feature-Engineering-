{
  "cells": [
    {
      "cell_type": "markdown",
      "metadata": {
        "id": "view-in-github",
        "colab_type": "text"
      },
      "source": [
        "<a href=\"https://colab.research.google.com/github/fritzpalomo/Project-Dataset-Preprocessing-and-Feature-Engineering-/blob/main/Customer_Data.ipynb\" target=\"_parent\"><img src=\"https://colab.research.google.com/assets/colab-badge.svg\" alt=\"Open In Colab\"/></a>"
      ]
    },
    {
      "cell_type": "code",
      "execution_count": null,
      "id": "481c55c9-b4a0-4253-a2cf-73538189e2cd",
      "metadata": {
        "id": "481c55c9-b4a0-4253-a2cf-73538189e2cd",
        "outputId": "50742d49-79d1-4591-da70-e243eb5d3ca2"
      },
      "outputs": [
        {
          "name": "stdout",
          "output_type": "stream",
          "text": [
            "<class 'pandas.core.frame.DataFrame'>\n",
            "RangeIndex: 100 entries, 0 to 99\n",
            "Data columns (total 4 columns):\n",
            " #   Column          Non-Null Count  Dtype  \n",
            "---  ------          --------------  -----  \n",
            " 0   Company_ID      90 non-null     float64\n",
            " 1   Company_Name    100 non-null    object \n",
            " 2   Company_Profit  88 non-null     float64\n",
            " 3   Address         100 non-null    object \n",
            "dtypes: float64(2), object(2)\n",
            "memory usage: 3.3+ KB\n"
          ]
        },
        {
          "data": {
            "text/plain": [
              "(None,\n",
              "    Company_ID          Company_Name  Company_Profit  \\\n",
              " 0         1.0  Tech  Enterprises  1         80701.0   \n",
              " 1         2.0   Global  Partners  2         80511.0   \n",
              " 2         3.0  Quantum Associates 3        110664.0   \n",
              " 3         4.0       Prime Network 4             NaN   \n",
              " 4         5.0    Elite  Ventures  5         69427.0   \n",
              " \n",
              "                                              Address  \n",
              " 0             EDSA, Barangay 606, Pasig, Philippines  \n",
              " 1  Commonwealth Ave, Barangay 789, Taguig, Philip...  \n",
              " 2       Roxas Blvd, Barangay 505, Pasig, Philippines  \n",
              " 3  Alabang-Zapote Rd, Barangay 202, Taguig, Phili...  \n",
              " 4    Ayala Avenue, Barangay 101, Makati, Philippines  )"
            ]
          },
          "execution_count": 1,
          "metadata": {},
          "output_type": "execute_result"
        }
      ],
      "source": [
        "import pandas as pd\n",
        "\n",
        "# Load the dataset\n",
        "df = pd.read_csv('customers_data.csv')\n",
        "\n",
        "# Display basic information about the dataset\n",
        "df.info(), df.head()"
      ]
    },
    {
      "cell_type": "code",
      "execution_count": null,
      "id": "b4e5db99-04d8-40ac-8a22-c7dc2bf72d28",
      "metadata": {
        "id": "b4e5db99-04d8-40ac-8a22-c7dc2bf72d28",
        "outputId": "bb51a726-41a0-49e9-c922-2874348c9269"
      },
      "outputs": [
        {
          "name": "stderr",
          "output_type": "stream",
          "text": [
            "/var/folders/s5/bxh06wfn0bs80gz6wbw_5msc0000gn/T/ipykernel_82360/232972074.py:5: FutureWarning: A value is trying to be set on a copy of a DataFrame or Series through chained assignment using an inplace method.\n",
            "The behavior will change in pandas 3.0. This inplace method will never work because the intermediate object on which we are setting values always behaves as a copy.\n",
            "\n",
            "For example, when doing 'df[col].method(value, inplace=True)', try using 'df.method({col: value}, inplace=True)' or df[col] = df[col].method(value) instead, to perform the operation inplace on the original object.\n",
            "\n",
            "\n",
            "  df['Company_Profit'].fillna(df['Company_Profit'].median(), inplace=True)\n"
          ]
        },
        {
          "data": {
            "text/html": [
              "<div>\n",
              "<style scoped>\n",
              "    .dataframe tbody tr th:only-of-type {\n",
              "        vertical-align: middle;\n",
              "    }\n",
              "\n",
              "    .dataframe tbody tr th {\n",
              "        vertical-align: top;\n",
              "    }\n",
              "\n",
              "    .dataframe thead th {\n",
              "        text-align: right;\n",
              "    }\n",
              "</style>\n",
              "<table border=\"1\" class=\"dataframe\">\n",
              "  <thead>\n",
              "    <tr style=\"text-align: right;\">\n",
              "      <th></th>\n",
              "      <th>Company_ID</th>\n",
              "      <th>Company_Name</th>\n",
              "      <th>Company_Profit</th>\n",
              "      <th>Address</th>\n",
              "      <th>City</th>\n",
              "      <th>Barangay</th>\n",
              "      <th>Profit_Category</th>\n",
              "    </tr>\n",
              "  </thead>\n",
              "  <tbody>\n",
              "    <tr>\n",
              "      <th>0</th>\n",
              "      <td>1</td>\n",
              "      <td>Tech  Enterprises  1</td>\n",
              "      <td>80701.0</td>\n",
              "      <td>EDSA, Barangay 606, Pasig, Philippines</td>\n",
              "      <td>Pasig</td>\n",
              "      <td>606.0</td>\n",
              "      <td>Medium</td>\n",
              "    </tr>\n",
              "    <tr>\n",
              "      <th>1</th>\n",
              "      <td>2</td>\n",
              "      <td>Global  Partners  2</td>\n",
              "      <td>80511.0</td>\n",
              "      <td>Commonwealth Ave, Barangay 789, Taguig, Philip...</td>\n",
              "      <td>Taguig</td>\n",
              "      <td>789.0</td>\n",
              "      <td>Medium</td>\n",
              "    </tr>\n",
              "    <tr>\n",
              "      <th>2</th>\n",
              "      <td>3</td>\n",
              "      <td>Quantum Associates 3</td>\n",
              "      <td>110664.0</td>\n",
              "      <td>Roxas Blvd, Barangay 505, Pasig, Philippines</td>\n",
              "      <td>Pasig</td>\n",
              "      <td>505.0</td>\n",
              "      <td>High</td>\n",
              "    </tr>\n",
              "    <tr>\n",
              "      <th>3</th>\n",
              "      <td>4</td>\n",
              "      <td>Prime Network 4</td>\n",
              "      <td>75301.5</td>\n",
              "      <td>Alabang-Zapote Rd, Barangay 202, Taguig, Phili...</td>\n",
              "      <td>Taguig</td>\n",
              "      <td>202.0</td>\n",
              "      <td>Medium</td>\n",
              "    </tr>\n",
              "    <tr>\n",
              "      <th>4</th>\n",
              "      <td>5</td>\n",
              "      <td>Elite  Ventures  5</td>\n",
              "      <td>69427.0</td>\n",
              "      <td>Ayala Avenue, Barangay 101, Makati, Philippines</td>\n",
              "      <td>Makati</td>\n",
              "      <td>101.0</td>\n",
              "      <td>Low</td>\n",
              "    </tr>\n",
              "  </tbody>\n",
              "</table>\n",
              "</div>"
            ],
            "text/plain": [
              "   Company_ID          Company_Name  Company_Profit  \\\n",
              "0           1  Tech  Enterprises  1         80701.0   \n",
              "1           2   Global  Partners  2         80511.0   \n",
              "2           3  Quantum Associates 3        110664.0   \n",
              "3           4       Prime Network 4         75301.5   \n",
              "4           5    Elite  Ventures  5         69427.0   \n",
              "\n",
              "                                             Address    City  Barangay  \\\n",
              "0             EDSA, Barangay 606, Pasig, Philippines   Pasig     606.0   \n",
              "1  Commonwealth Ave, Barangay 789, Taguig, Philip...  Taguig     789.0   \n",
              "2       Roxas Blvd, Barangay 505, Pasig, Philippines   Pasig     505.0   \n",
              "3  Alabang-Zapote Rd, Barangay 202, Taguig, Phili...  Taguig     202.0   \n",
              "4    Ayala Avenue, Barangay 101, Makati, Philippines  Makati     101.0   \n",
              "\n",
              "  Profit_Category  \n",
              "0          Medium  \n",
              "1          Medium  \n",
              "2            High  \n",
              "3          Medium  \n",
              "4             Low  "
            ]
          },
          "execution_count": 10,
          "metadata": {},
          "output_type": "execute_result"
        }
      ],
      "source": [
        "# Fill missing Company_ID values with the next available integer value\n",
        "df['Company_ID'] = df['Company_ID'].interpolate().astype(int)\n",
        "\n",
        "# Handle missing Company_Profit by filling with the median\n",
        "df['Company_Profit'].fillna(df['Company_Profit'].median(), inplace=True)\n",
        "\n",
        "# Extract City and Barangay from Address using regex\n",
        "df['City'] = df['Address'].str.extract(r',\\s*([^,]+),\\s*Philippines')\n",
        "df['Barangay'] = df['Address'].str.extract(r'Barangay\\s*(\\d+)')\n",
        "\n",
        "# Convert Barangay to numeric type\n",
        "df['Barangay'] = pd.to_numeric(df['Barangay'], errors='coerce')\n",
        "\n",
        "# Categorize Company_Profit into bins (Low, Medium, High)\n",
        "profit_bins = [0, 70000, 100000, df['Company_Profit'].max()]\n",
        "profit_labels = ['Low', 'Medium', 'High']\n",
        "df['Profit_Category'] = pd.cut(df['Company_Profit'], bins=profit_bins, labels=profit_labels)\n",
        "\n",
        "# Display the cleaned dataset\n",
        "df.head()"
      ]
    },
    {
      "cell_type": "code",
      "execution_count": null,
      "id": "476b51d3-e04a-4bfe-af02-2e0694a5d9df",
      "metadata": {
        "id": "476b51d3-e04a-4bfe-af02-2e0694a5d9df"
      },
      "outputs": [],
      "source": []
    },
    {
      "cell_type": "code",
      "execution_count": null,
      "id": "dad66e6b-76e4-4b66-b0a6-ae9ccc51feb3",
      "metadata": {
        "id": "dad66e6b-76e4-4b66-b0a6-ae9ccc51feb3"
      },
      "outputs": [],
      "source": []
    }
  ],
  "metadata": {
    "kernelspec": {
      "display_name": "Python [conda env:base] *",
      "language": "python",
      "name": "conda-base-py"
    },
    "language_info": {
      "codemirror_mode": {
        "name": "ipython",
        "version": 3
      },
      "file_extension": ".py",
      "mimetype": "text/x-python",
      "name": "python",
      "nbconvert_exporter": "python",
      "pygments_lexer": "ipython3",
      "version": "3.12.7"
    },
    "colab": {
      "provenance": [],
      "include_colab_link": true
    }
  },
  "nbformat": 4,
  "nbformat_minor": 5
}