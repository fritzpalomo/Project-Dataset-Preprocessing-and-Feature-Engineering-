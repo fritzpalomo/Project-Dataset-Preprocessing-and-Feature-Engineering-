{
  "cells": [
    {
      "cell_type": "markdown",
      "metadata": {
        "id": "view-in-github",
        "colab_type": "text"
      },
      "source": [
        "<a href=\"https://colab.research.google.com/github/fritzpalomo/Project-Dataset-Preprocessing-and-Feature-Engineering-/blob/main/Products_Data_Final.ipynb\" target=\"_parent\"><img src=\"https://colab.research.google.com/assets/colab-badge.svg\" alt=\"Open In Colab\"/></a>"
      ]
    },
    {
      "cell_type": "code",
      "execution_count": null,
      "id": "1d5ae611-1268-40ba-9462-739306535aaa",
      "metadata": {
        "id": "1d5ae611-1268-40ba-9462-739306535aaa",
        "outputId": "6c974902-a9e2-4004-daa5-46dcbfd78754"
      },
      "outputs": [
        {
          "name": "stdout",
          "output_type": "stream",
          "text": [
            "<class 'pandas.core.frame.DataFrame'>\n",
            "RangeIndex: 20 entries, 0 to 19\n",
            "Data columns (total 3 columns):\n",
            " #   Column         Non-Null Count  Dtype  \n",
            "---  ------         --------------  -----  \n",
            " 0   Product_ID     18 non-null     float64\n",
            " 1   Product_Name   20 non-null     object \n",
            " 2   Product_Price  20 non-null     object \n",
            "dtypes: float64(1), object(2)\n",
            "memory usage: 612.0+ bytes\n"
          ]
        },
        {
          "data": {
            "text/plain": [
              "(None,\n",
              "    Product_ID            Product_Name Product_Price\n",
              " 0         1.0      FinPredictor Suite      ?140,000\n",
              " 1         2.0  MarketMinder Analytics      ?168,000\n",
              " 2         3.0    TrendWise Forecaster      ?100,800\n",
              " 3         4.0  CustomerScope Insights      ?123,200\n",
              " 4         5.0     SalesSync Optimizer       ?84,000)"
            ]
          },
          "execution_count": 9,
          "metadata": {},
          "output_type": "execute_result"
        }
      ],
      "source": [
        "import pandas as pd\n",
        "import numpy as np\n",
        "\n",
        "# Load the dataset\n",
        "df = pd.read_csv('products_data.csv')\n",
        "\n",
        "# Display basic information and first few rows\n",
        "df.info(), df.head()"
      ]
    },
    {
      "cell_type": "code",
      "execution_count": null,
      "id": "850dd7df-b3ed-4c74-8594-22606cf2fbcf",
      "metadata": {
        "id": "850dd7df-b3ed-4c74-8594-22606cf2fbcf",
        "outputId": "6e10d8da-eb46-48e7-863b-15a473196611"
      },
      "outputs": [
        {
          "name": "stderr",
          "output_type": "stream",
          "text": [
            "/var/folders/s5/bxh06wfn0bs80gz6wbw_5msc0000gn/T/ipykernel_83171/1713420959.py:2: FutureWarning: Series.fillna with 'method' is deprecated and will raise in a future version. Use obj.ffill() or obj.bfill() instead.\n",
            "  df['Product_ID'] = df['Product_ID'].fillna(method='ffill').astype(int)\n"
          ]
        }
      ],
      "source": [
        "# Fill missing Product_IDs with sequential numbers\n",
        "df['Product_ID'] = df['Product_ID'].fillna(method='ffill').astype(int)\n",
        "\n",
        "# Clean Product_Price column\n",
        "df['Product_Price'] = df['Product_Price'].astype(str).str.replace(r'[^\\d.]', '', regex=True)\n",
        "df['Product_Price'] = pd.to_numeric(df['Product_Price'], errors='coerce')\n",
        "\n",
        "# Create price category\n",
        "def categorize_price(price):\n",
        "    if price < 100000:\n",
        "        return \"Low\"\n",
        "    elif 100000 <= price <= 150000:\n",
        "        return \"Medium\"\n",
        "    else:\n",
        "        return \"High\"\n",
        "\n",
        "df['Price_Category'] = df['Product_Price'].apply(categorize_price)"
      ]
    },
    {
      "cell_type": "code",
      "execution_count": null,
      "id": "53edb08e-6250-4d28-8bc8-3ed8897e4818",
      "metadata": {
        "id": "53edb08e-6250-4d28-8bc8-3ed8897e4818",
        "outputId": "353829ac-1888-46d5-fab8-124086c49146"
      },
      "outputs": [
        {
          "name": "stdout",
          "output_type": "stream",
          "text": [
            "<class 'pandas.core.frame.DataFrame'>\n",
            "RangeIndex: 20 entries, 0 to 19\n",
            "Data columns (total 4 columns):\n",
            " #   Column          Non-Null Count  Dtype  \n",
            "---  ------          --------------  -----  \n",
            " 0   Product_ID      20 non-null     int64  \n",
            " 1   Product_Name    20 non-null     object \n",
            " 2   Product_Price   20 non-null     float64\n",
            " 3   Price_Category  20 non-null     object \n",
            "dtypes: float64(1), int64(1), object(2)\n",
            "memory usage: 772.0+ bytes\n"
          ]
        },
        {
          "data": {
            "text/plain": [
              "(None,\n",
              "    Product_ID            Product_Name  Product_Price Price_Category\n",
              " 0           1      FinPredictor Suite       140000.0         Medium\n",
              " 1           2  MarketMinder Analytics       168000.0           High\n",
              " 2           3    TrendWise Forecaster       100800.0         Medium\n",
              " 3           4  CustomerScope Insights       123200.0         Medium\n",
              " 4           5     SalesSync Optimizer        84000.0            Low)"
            ]
          },
          "execution_count": 15,
          "metadata": {},
          "output_type": "execute_result"
        }
      ],
      "source": [
        "df.info(), df.head()"
      ]
    },
    {
      "cell_type": "code",
      "execution_count": null,
      "id": "ca9ea1fd-bcbf-4604-9b51-f1f9dd9da8f2",
      "metadata": {
        "id": "ca9ea1fd-bcbf-4604-9b51-f1f9dd9da8f2",
        "outputId": "65c98e68-bfd6-4101-d844-aae6ad4ef3a3"
      },
      "outputs": [
        {
          "data": {
            "text/html": [
              "<div>\n",
              "<style scoped>\n",
              "    .dataframe tbody tr th:only-of-type {\n",
              "        vertical-align: middle;\n",
              "    }\n",
              "\n",
              "    .dataframe tbody tr th {\n",
              "        vertical-align: top;\n",
              "    }\n",
              "\n",
              "    .dataframe thead th {\n",
              "        text-align: right;\n",
              "    }\n",
              "</style>\n",
              "<table border=\"1\" class=\"dataframe\">\n",
              "  <thead>\n",
              "    <tr style=\"text-align: right;\">\n",
              "      <th></th>\n",
              "      <th>Product_ID</th>\n",
              "      <th>Product_Name</th>\n",
              "      <th>Product_Price</th>\n",
              "      <th>Price_Category</th>\n",
              "    </tr>\n",
              "  </thead>\n",
              "  <tbody>\n",
              "    <tr>\n",
              "      <th>0</th>\n",
              "      <td>1</td>\n",
              "      <td>FinPredictor Suite</td>\n",
              "      <td>140000.0</td>\n",
              "      <td>Medium</td>\n",
              "    </tr>\n",
              "    <tr>\n",
              "      <th>1</th>\n",
              "      <td>2</td>\n",
              "      <td>MarketMinder Analytics</td>\n",
              "      <td>168000.0</td>\n",
              "      <td>High</td>\n",
              "    </tr>\n",
              "    <tr>\n",
              "      <th>2</th>\n",
              "      <td>3</td>\n",
              "      <td>TrendWise Forecaster</td>\n",
              "      <td>100800.0</td>\n",
              "      <td>Medium</td>\n",
              "    </tr>\n",
              "    <tr>\n",
              "      <th>3</th>\n",
              "      <td>4</td>\n",
              "      <td>CustomerScope Insights</td>\n",
              "      <td>123200.0</td>\n",
              "      <td>Medium</td>\n",
              "    </tr>\n",
              "    <tr>\n",
              "      <th>4</th>\n",
              "      <td>5</td>\n",
              "      <td>SalesSync Optimizer</td>\n",
              "      <td>84000.0</td>\n",
              "      <td>Low</td>\n",
              "    </tr>\n",
              "    <tr>\n",
              "      <th>5</th>\n",
              "      <td>6</td>\n",
              "      <td>RevenueVue Dashboard</td>\n",
              "      <td>179200.0</td>\n",
              "      <td>High</td>\n",
              "    </tr>\n",
              "    <tr>\n",
              "      <th>6</th>\n",
              "      <td>7</td>\n",
              "      <td>DataBridge Integration Tool</td>\n",
              "      <td>151200.0</td>\n",
              "      <td>High</td>\n",
              "    </tr>\n",
              "    <tr>\n",
              "      <th>7</th>\n",
              "      <td>7</td>\n",
              "      <td>RiskRadar Monitor</td>\n",
              "      <td>151200.0</td>\n",
              "      <td>High</td>\n",
              "    </tr>\n",
              "    <tr>\n",
              "      <th>8</th>\n",
              "      <td>9</td>\n",
              "      <td>Product 9</td>\n",
              "      <td>112000.0</td>\n",
              "      <td>Medium</td>\n",
              "    </tr>\n",
              "    <tr>\n",
              "      <th>9</th>\n",
              "      <td>10</td>\n",
              "      <td>SegmentX Targeting</td>\n",
              "      <td>89600.0</td>\n",
              "      <td>Low</td>\n",
              "    </tr>\n",
              "    <tr>\n",
              "      <th>10</th>\n",
              "      <td>11</td>\n",
              "      <td>OptiFlow Automation</td>\n",
              "      <td>156800.0</td>\n",
              "      <td>High</td>\n",
              "    </tr>\n",
              "    <tr>\n",
              "      <th>11</th>\n",
              "      <td>12</td>\n",
              "      <td>BudgetMaster Pro</td>\n",
              "      <td>84000.0</td>\n",
              "      <td>Low</td>\n",
              "    </tr>\n",
              "    <tr>\n",
              "      <th>12</th>\n",
              "      <td>13</td>\n",
              "      <td>ForecastXcelerator</td>\n",
              "      <td>196000.0</td>\n",
              "      <td>High</td>\n",
              "    </tr>\n",
              "    <tr>\n",
              "      <th>13</th>\n",
              "      <td>14</td>\n",
              "      <td>InsightMax Insights Platform</td>\n",
              "      <td>128800.0</td>\n",
              "      <td>Medium</td>\n",
              "    </tr>\n",
              "    <tr>\n",
              "      <th>14</th>\n",
              "      <td>15</td>\n",
              "      <td>NexGen Segmentator</td>\n",
              "      <td>100800.0</td>\n",
              "      <td>Medium</td>\n",
              "    </tr>\n",
              "    <tr>\n",
              "      <th>15</th>\n",
              "      <td>15</td>\n",
              "      <td>SpendTrack Plus</td>\n",
              "      <td>106400.0</td>\n",
              "      <td>Medium</td>\n",
              "    </tr>\n",
              "    <tr>\n",
              "      <th>16</th>\n",
              "      <td>17</td>\n",
              "      <td>RealTime Revenue</td>\n",
              "      <td>168000.0</td>\n",
              "      <td>High</td>\n",
              "    </tr>\n",
              "    <tr>\n",
              "      <th>17</th>\n",
              "      <td>18</td>\n",
              "      <td>DashSync Analytics Hub</td>\n",
              "      <td>134400.0</td>\n",
              "      <td>Medium</td>\n",
              "    </tr>\n",
              "    <tr>\n",
              "      <th>18</th>\n",
              "      <td>19</td>\n",
              "      <td>EcoNomix Modeler</td>\n",
              "      <td>95200.0</td>\n",
              "      <td>Low</td>\n",
              "    </tr>\n",
              "    <tr>\n",
              "      <th>19</th>\n",
              "      <td>20</td>\n",
              "      <td>FinSphere Intelligence Suite</td>\n",
              "      <td>224000.0</td>\n",
              "      <td>High</td>\n",
              "    </tr>\n",
              "  </tbody>\n",
              "</table>\n",
              "</div>"
            ],
            "text/plain": [
              "    Product_ID                  Product_Name  Product_Price Price_Category\n",
              "0            1            FinPredictor Suite       140000.0         Medium\n",
              "1            2        MarketMinder Analytics       168000.0           High\n",
              "2            3          TrendWise Forecaster       100800.0         Medium\n",
              "3            4        CustomerScope Insights       123200.0         Medium\n",
              "4            5           SalesSync Optimizer        84000.0            Low\n",
              "5            6          RevenueVue Dashboard       179200.0           High\n",
              "6            7   DataBridge Integration Tool       151200.0           High\n",
              "7            7             RiskRadar Monitor       151200.0           High\n",
              "8            9                     Product 9       112000.0         Medium\n",
              "9           10            SegmentX Targeting        89600.0            Low\n",
              "10          11           OptiFlow Automation       156800.0           High\n",
              "11          12              BudgetMaster Pro        84000.0            Low\n",
              "12          13           ForecastXcelerator        196000.0           High\n",
              "13          14  InsightMax Insights Platform       128800.0         Medium\n",
              "14          15            NexGen Segmentator       100800.0         Medium\n",
              "15          15               SpendTrack Plus       106400.0         Medium\n",
              "16          17              RealTime Revenue       168000.0           High\n",
              "17          18        DashSync Analytics Hub       134400.0         Medium\n",
              "18          19              EcoNomix Modeler        95200.0            Low\n",
              "19          20  FinSphere Intelligence Suite       224000.0           High"
            ]
          },
          "execution_count": 17,
          "metadata": {},
          "output_type": "execute_result"
        }
      ],
      "source": [
        "df"
      ]
    },
    {
      "cell_type": "code",
      "execution_count": null,
      "id": "0e78ec2c-f7ef-4c47-9834-32bb1b992f3a",
      "metadata": {
        "id": "0e78ec2c-f7ef-4c47-9834-32bb1b992f3a"
      },
      "outputs": [],
      "source": []
    }
  ],
  "metadata": {
    "kernelspec": {
      "display_name": "Python [conda env:base] *",
      "language": "python",
      "name": "conda-base-py"
    },
    "language_info": {
      "codemirror_mode": {
        "name": "ipython",
        "version": 3
      },
      "file_extension": ".py",
      "mimetype": "text/x-python",
      "name": "python",
      "nbconvert_exporter": "python",
      "pygments_lexer": "ipython3",
      "version": "3.12.7"
    },
    "colab": {
      "provenance": [],
      "include_colab_link": true
    }
  },
  "nbformat": 4,
  "nbformat_minor": 5
}