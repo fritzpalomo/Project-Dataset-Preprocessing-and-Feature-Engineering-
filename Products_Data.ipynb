{
  "cells": [
    {
      "cell_type": "markdown",
      "metadata": {
        "id": "view-in-github",
        "colab_type": "text"
      },
      "source": [
        "<a href=\"https://colab.research.google.com/github/fritzpalomo/Project-Dataset-Preprocessing-and-Feature-Engineering-/blob/main/Products_Data.ipynb\" target=\"_parent\"><img src=\"https://colab.research.google.com/assets/colab-badge.svg\" alt=\"Open In Colab\"/></a>"
      ]
    },
    {
      "cell_type": "code",
      "execution_count": null,
      "id": "1d5ae611-1268-40ba-9462-739306535aaa",
      "metadata": {
        "id": "1d5ae611-1268-40ba-9462-739306535aaa",
        "outputId": "fbcfffca-8f86-493a-fb03-bb16b7c2a692"
      },
      "outputs": [
        {
          "name": "stdout",
          "output_type": "stream",
          "text": [
            "<class 'pandas.core.frame.DataFrame'>\n",
            "RangeIndex: 20 entries, 0 to 19\n",
            "Data columns (total 3 columns):\n",
            " #   Column         Non-Null Count  Dtype  \n",
            "---  ------         --------------  -----  \n",
            " 0   Product_ID     18 non-null     float64\n",
            " 1   Product_Name   20 non-null     object \n",
            " 2   Product_Price  20 non-null     object \n",
            "dtypes: float64(1), object(2)\n",
            "memory usage: 612.0+ bytes\n"
          ]
        },
        {
          "data": {
            "text/plain": [
              "(None,\n",
              "    Product_ID            Product_Name Product_Price\n",
              " 0         1.0      FinPredictor Suite      ?140,000\n",
              " 1         2.0  MarketMinder Analytics      ?168,000\n",
              " 2         3.0    TrendWise Forecaster      ?100,800\n",
              " 3         4.0  CustomerScope Insights      ?123,200\n",
              " 4         5.0     SalesSync Optimizer       ?84,000)"
            ]
          },
          "execution_count": 1,
          "metadata": {},
          "output_type": "execute_result"
        }
      ],
      "source": [
        "import pandas as pd\n",
        "\n",
        "# Load the dataset\n",
        "df = pd.read_csv('products_data.csv')\n",
        "\n",
        "# Display basic information and first few rows\n",
        "df.info(), df.head()"
      ]
    },
    {
      "cell_type": "code",
      "execution_count": null,
      "id": "850dd7df-b3ed-4c74-8594-22606cf2fbcf",
      "metadata": {
        "id": "850dd7df-b3ed-4c74-8594-22606cf2fbcf",
        "outputId": "5fca6595-ef74-4b53-d4d9-0f80ff3d171f"
      },
      "outputs": [
        {
          "name": "stdout",
          "output_type": "stream",
          "text": [
            "<class 'pandas.core.frame.DataFrame'>\n",
            "RangeIndex: 20 entries, 0 to 19\n",
            "Data columns (total 3 columns):\n",
            " #   Column         Non-Null Count  Dtype  \n",
            "---  ------         --------------  -----  \n",
            " 0   Product_ID     20 non-null     int64  \n",
            " 1   Product_Name   20 non-null     object \n",
            " 2   Product_Price  20 non-null     float64\n",
            "dtypes: float64(1), int64(1), object(1)\n",
            "memory usage: 612.0+ bytes\n"
          ]
        },
        {
          "data": {
            "text/plain": [
              "(None,\n",
              "    Product_ID            Product_Name  Product_Price\n",
              " 0           1      FinPredictor Suite       140000.0\n",
              " 1           2  MarketMinder Analytics       168000.0\n",
              " 2           3    TrendWise Forecaster       100800.0\n",
              " 3           4  CustomerScope Insights       123200.0\n",
              " 4           5     SalesSync Optimizer        84000.0)"
            ]
          },
          "execution_count": 3,
          "metadata": {},
          "output_type": "execute_result"
        }
      ],
      "source": [
        "import numpy as np\n",
        "\n",
        "# Clean Product_Price: Remove non-numeric characters and convert to float\n",
        "df[\"Product_Price\"] = df[\"Product_Price\"].str.replace(r\"[^\\d.]\", \"\", regex=True).astype(float)\n",
        "\n",
        "# Fill missing Product_ID with a new unique identifier (e.g., max ID + 1, max ID + 2)\n",
        "missing_ids = df[\"Product_ID\"].isna().sum()\n",
        "if missing_ids > 0:\n",
        "    max_id = df[\"Product_ID\"].max(skipna=True)\n",
        "    df.loc[df[\"Product_ID\"].isna(), \"Product_ID\"] = np.arange(max_id + 1, max_id + 1 + missing_ids)\n",
        "\n",
        "# Convert Product_ID to integer\n",
        "df[\"Product_ID\"] = df[\"Product_ID\"].astype(int)\n",
        "\n",
        "# Check results\n",
        "df.info(), df.head()"
      ]
    },
    {
      "cell_type": "code",
      "execution_count": null,
      "id": "b4757775-689d-4ef4-9639-2cb2b62da55a",
      "metadata": {
        "id": "b4757775-689d-4ef4-9639-2cb2b62da55a",
        "outputId": "610973ef-c30e-463c-d589-9ae7cd980044"
      },
      "outputs": [
        {
          "data": {
            "text/html": [
              "<div>\n",
              "<style scoped>\n",
              "    .dataframe tbody tr th:only-of-type {\n",
              "        vertical-align: middle;\n",
              "    }\n",
              "\n",
              "    .dataframe tbody tr th {\n",
              "        vertical-align: top;\n",
              "    }\n",
              "\n",
              "    .dataframe thead th {\n",
              "        text-align: right;\n",
              "    }\n",
              "</style>\n",
              "<table border=\"1\" class=\"dataframe\">\n",
              "  <thead>\n",
              "    <tr style=\"text-align: right;\">\n",
              "      <th></th>\n",
              "      <th>Product_ID</th>\n",
              "      <th>Product_Name</th>\n",
              "      <th>Product_Price</th>\n",
              "    </tr>\n",
              "  </thead>\n",
              "  <tbody>\n",
              "    <tr>\n",
              "      <th>0</th>\n",
              "      <td>1</td>\n",
              "      <td>FinPredictor Suite</td>\n",
              "      <td>140000.0</td>\n",
              "    </tr>\n",
              "    <tr>\n",
              "      <th>1</th>\n",
              "      <td>2</td>\n",
              "      <td>MarketMinder Analytics</td>\n",
              "      <td>168000.0</td>\n",
              "    </tr>\n",
              "    <tr>\n",
              "      <th>2</th>\n",
              "      <td>3</td>\n",
              "      <td>TrendWise Forecaster</td>\n",
              "      <td>100800.0</td>\n",
              "    </tr>\n",
              "    <tr>\n",
              "      <th>3</th>\n",
              "      <td>4</td>\n",
              "      <td>CustomerScope Insights</td>\n",
              "      <td>123200.0</td>\n",
              "    </tr>\n",
              "    <tr>\n",
              "      <th>4</th>\n",
              "      <td>5</td>\n",
              "      <td>SalesSync Optimizer</td>\n",
              "      <td>84000.0</td>\n",
              "    </tr>\n",
              "    <tr>\n",
              "      <th>5</th>\n",
              "      <td>6</td>\n",
              "      <td>RevenueVue Dashboard</td>\n",
              "      <td>179200.0</td>\n",
              "    </tr>\n",
              "    <tr>\n",
              "      <th>6</th>\n",
              "      <td>7</td>\n",
              "      <td>DataBridge Integration Tool</td>\n",
              "      <td>151200.0</td>\n",
              "    </tr>\n",
              "    <tr>\n",
              "      <th>7</th>\n",
              "      <td>21</td>\n",
              "      <td>RiskRadar Monitor</td>\n",
              "      <td>151200.0</td>\n",
              "    </tr>\n",
              "    <tr>\n",
              "      <th>8</th>\n",
              "      <td>9</td>\n",
              "      <td>Product 9</td>\n",
              "      <td>112000.0</td>\n",
              "    </tr>\n",
              "    <tr>\n",
              "      <th>9</th>\n",
              "      <td>10</td>\n",
              "      <td>SegmentX Targeting</td>\n",
              "      <td>89600.0</td>\n",
              "    </tr>\n",
              "    <tr>\n",
              "      <th>10</th>\n",
              "      <td>11</td>\n",
              "      <td>OptiFlow Automation</td>\n",
              "      <td>156800.0</td>\n",
              "    </tr>\n",
              "    <tr>\n",
              "      <th>11</th>\n",
              "      <td>12</td>\n",
              "      <td>BudgetMaster Pro</td>\n",
              "      <td>84000.0</td>\n",
              "    </tr>\n",
              "    <tr>\n",
              "      <th>12</th>\n",
              "      <td>13</td>\n",
              "      <td>ForecastXcelerator</td>\n",
              "      <td>196000.0</td>\n",
              "    </tr>\n",
              "    <tr>\n",
              "      <th>13</th>\n",
              "      <td>14</td>\n",
              "      <td>InsightMax Insights Platform</td>\n",
              "      <td>128800.0</td>\n",
              "    </tr>\n",
              "    <tr>\n",
              "      <th>14</th>\n",
              "      <td>15</td>\n",
              "      <td>NexGen Segmentator</td>\n",
              "      <td>100800.0</td>\n",
              "    </tr>\n",
              "    <tr>\n",
              "      <th>15</th>\n",
              "      <td>22</td>\n",
              "      <td>SpendTrack Plus</td>\n",
              "      <td>106400.0</td>\n",
              "    </tr>\n",
              "    <tr>\n",
              "      <th>16</th>\n",
              "      <td>17</td>\n",
              "      <td>RealTime Revenue</td>\n",
              "      <td>168000.0</td>\n",
              "    </tr>\n",
              "    <tr>\n",
              "      <th>17</th>\n",
              "      <td>18</td>\n",
              "      <td>DashSync Analytics Hub</td>\n",
              "      <td>134400.0</td>\n",
              "    </tr>\n",
              "    <tr>\n",
              "      <th>18</th>\n",
              "      <td>19</td>\n",
              "      <td>EcoNomix Modeler</td>\n",
              "      <td>95200.0</td>\n",
              "    </tr>\n",
              "    <tr>\n",
              "      <th>19</th>\n",
              "      <td>20</td>\n",
              "      <td>FinSphere Intelligence Suite</td>\n",
              "      <td>224000.0</td>\n",
              "    </tr>\n",
              "  </tbody>\n",
              "</table>\n",
              "</div>"
            ],
            "text/plain": [
              "    Product_ID                  Product_Name  Product_Price\n",
              "0            1            FinPredictor Suite       140000.0\n",
              "1            2        MarketMinder Analytics       168000.0\n",
              "2            3          TrendWise Forecaster       100800.0\n",
              "3            4        CustomerScope Insights       123200.0\n",
              "4            5           SalesSync Optimizer        84000.0\n",
              "5            6          RevenueVue Dashboard       179200.0\n",
              "6            7   DataBridge Integration Tool       151200.0\n",
              "7           21             RiskRadar Monitor       151200.0\n",
              "8            9                     Product 9       112000.0\n",
              "9           10            SegmentX Targeting        89600.0\n",
              "10          11           OptiFlow Automation       156800.0\n",
              "11          12              BudgetMaster Pro        84000.0\n",
              "12          13           ForecastXcelerator        196000.0\n",
              "13          14  InsightMax Insights Platform       128800.0\n",
              "14          15            NexGen Segmentator       100800.0\n",
              "15          22               SpendTrack Plus       106400.0\n",
              "16          17              RealTime Revenue       168000.0\n",
              "17          18        DashSync Analytics Hub       134400.0\n",
              "18          19              EcoNomix Modeler        95200.0\n",
              "19          20  FinSphere Intelligence Suite       224000.0"
            ]
          },
          "execution_count": 5,
          "metadata": {},
          "output_type": "execute_result"
        }
      ],
      "source": [
        "df"
      ]
    },
    {
      "cell_type": "code",
      "execution_count": null,
      "id": "c1864e43-648e-4044-94eb-f111f7e0ac4f",
      "metadata": {
        "id": "c1864e43-648e-4044-94eb-f111f7e0ac4f",
        "outputId": "d3e9bd7c-9b1d-45c6-f603-7903b8cc6f60"
      },
      "outputs": [
        {
          "data": {
            "text/plain": [
              "'/mnt/data/cleaned_products_data.csv'"
            ]
          },
          "execution_count": 7,
          "metadata": {},
          "output_type": "execute_result"
        }
      ],
      "source": [
        "# Define the output file path\n",
        "output_file_path = \"/mnt/data/cleaned_products_data.csv\"\n",
        "\n",
        "# Save the cleaned dataset to a new CSV file\n",
        "df.to_csv(\"/Users/johnallenalcantara/Downloads/cleaned_products_data.csv\", index=False)\n",
        "\n",
        "# Provide the download link\n",
        "output_file_path"
      ]
    },
    {
      "cell_type": "code",
      "execution_count": null,
      "id": "53edb08e-6250-4d28-8bc8-3ed8897e4818",
      "metadata": {
        "id": "53edb08e-6250-4d28-8bc8-3ed8897e4818"
      },
      "outputs": [],
      "source": []
    }
  ],
  "metadata": {
    "kernelspec": {
      "display_name": "Python [conda env:base] *",
      "language": "python",
      "name": "conda-base-py"
    },
    "language_info": {
      "codemirror_mode": {
        "name": "ipython",
        "version": 3
      },
      "file_extension": ".py",
      "mimetype": "text/x-python",
      "name": "python",
      "nbconvert_exporter": "python",
      "pygments_lexer": "ipython3",
      "version": "3.12.7"
    },
    "colab": {
      "provenance": [],
      "include_colab_link": true
    }
  },
  "nbformat": 4,
  "nbformat_minor": 5
}